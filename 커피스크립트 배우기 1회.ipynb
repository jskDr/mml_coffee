{
 "cells": [
  {
   "cell_type": "markdown",
   "metadata": {},
   "source": [
    "# 커피스크립트로 프로그래밍 시작하기 (1회)"
   ]
  },
  {
   "cell_type": "markdown",
   "metadata": {},
   "source": [
    "내가 만난 컴퓨터 언어 중에서 가장 쉬운 것이 커피스크립트이다. 커피스크립트는 더군다나 웹 프로그래밍이 가능한 언어이다. 나는 지금부터 가장 쉬운 언어를 가능한 한 최고 쉽게 설명하려고 한다. \n",
    "\n",
    "나는 초등학교 3학년 때 베이직이라는 언어로 처음 프로그래밍을 배웠다. 쉬운 언어였기에 빠르게 컴퓨터와 친해질 수 있었다. 커피스크립트는 새로운 언어이지만 베이직만큼 쉬운 언어이다. 어쩌면 사람의 언어와 많이 닮았기에 베이직 언어보다 더 쉬운 언어라 할 수 있다. \n",
    "\n",
    "프로그래밍을 배울 때 더하기, 빼기 등 산술적인 내용을 포함하지 않을 수는 없다. 그러나 지금까지 프로그래밍들이 게산기에 발전해 온 관계로 지나치게 계산 중심으로 발전되어 온 것도 사실이다. 하지만 최근의 프로그래밍의 추세는 계산에서 인공지능으로 옮겨가고 있는 상황이다. \n",
    "\n",
    "인공지능을 이해하고 활용하는 관점에서 프로그래밍을 바라본다면 수학적인 개념은 줄이고 언어적인 개념으로 이해할 수 있기에 커피스크립트는 미래를 대비한 언어라고도 생각할 수 있다. 여기서는 따라서 인공지능을 예제로 삶아서 커피스크립트를 설명하여 좀 더 쉽게 이해할 수 있도록 진행할 예정이다. \n",
    "\n",
    "프로그래밍에 있어 인공지능이란 엄마가 아이에게 말을 가르치는 것과 유사하다. 엄마는 어려서 아무 것도 모르는 아이에게 말과 지식을 가르친다. 마찬가지로 우리는 프로그래밍 언어를 통해 기계 또는 컴퓨터에게 말과 지식을 가르칠 수 있다. \n",
    "\n",
    "프로그래밍이 가능하기에 컴퓨터는 아이 또는 우리의 친구와 같이 여겨진다. 우리는 프로그램으로 컴퓨터에게 말하고, 컴퓨터는 결과나 신호로 우리에게 자신의 의견을 전달한다. 사람과 사람처럼 수평적인 대화 관계는 아니지만 강아지와 같이 내 말을 잘 듣는 나의 애완동물같이 행동한다. \n",
    "\n",
    "커피스크립트는 최근에 나온 언어이기에 한글로 작성이 가능하다. 예를 들어 사과 한 개의 가격이 1000원이라면 다음과 같이 프로그래밍 할 수 있다. "
   ]
  },
  {
   "cell_type": "code",
   "execution_count": 23,
   "metadata": {
    "collapsed": false
   },
   "outputs": [
    {
     "data": {
      "text/plain": [
       "1000"
      ]
     },
     "execution_count": 23,
     "metadata": {},
     "output_type": "execute_result"
    }
   ],
   "source": [
    "사과_한_개_가격 = 1000"
   ]
  },
  {
   "cell_type": "markdown",
   "metadata": {},
   "source": [
    "그리고 사과 두 개의 가격은 다음과 같이 가르쳐 줄 수 있다."
   ]
  },
  {
   "cell_type": "code",
   "execution_count": 25,
   "metadata": {
    "collapsed": false
   },
   "outputs": [
    {
     "data": {
      "text/plain": [
       "2000"
      ]
     },
     "execution_count": 25,
     "metadata": {},
     "output_type": "execute_result"
    }
   ],
   "source": [
    "사과_두_개_가격 = 사과_한_개_가격 + 사과_한_개_가격"
   ]
  },
  {
   "cell_type": "markdown",
   "metadata": {},
   "source": [
    "가르쳐 준 내용을 제대로 알았는 이렇게 물어볼 수 있다. "
   ]
  },
  {
   "cell_type": "code",
   "execution_count": 26,
   "metadata": {
    "collapsed": false
   },
   "outputs": [
    {
     "data": {
      "text/plain": [
       "2000"
      ]
     },
     "execution_count": 26,
     "metadata": {},
     "output_type": "execute_result"
    }
   ],
   "source": [
    "사과_두_개_가격"
   ]
  },
  {
   "cell_type": "markdown",
   "metadata": {},
   "source": [
    "다음은 한글로 프로그래밍을 하도록 하기 위해 사전에 준비하는 내용으로 설명은 다음에 할 예정이다. 내용은 내가 주문한 내용을 화면에 보이도록 하는 동사 또는 명령어를 만드는 것이다. "
   ]
  },
  {
   "cell_type": "code",
   "execution_count": 19,
   "metadata": {
    "collapsed": false
   },
   "outputs": [
    {
     "data": {
      "text/plain": [
       "function (내용) {\n",
       "  return console.log(내용);\n",
       "}"
      ]
     },
     "execution_count": 19,
     "metadata": {},
     "output_type": "execute_result"
    }
   ],
   "source": [
    "보이기 = (내용) -> console.log 내용"
   ]
  },
  {
   "cell_type": "markdown",
   "metadata": {},
   "source": [
    "지금까지 아주 기본이 되는 프로그래밍을 커피스크립트로 작성하는 방법을 알아보았다. 지금까지 했던 부분을 모아서 같이 적어보면 다음과 같다. "
   ]
  },
  {
   "cell_type": "code",
   "execution_count": 20,
   "metadata": {
    "collapsed": false
   },
   "outputs": [
    {
     "name": "stdout",
     "output_type": "stream",
     "text": [
      "2000\n"
     ]
    },
    {
     "data": {
      "text/plain": [
       "undefined"
      ]
     },
     "execution_count": 20,
     "metadata": {},
     "output_type": "execute_result"
    }
   ],
   "source": [
    "사과_한_개_가격 = 1000\n",
    "사과_두_개_가격 = 사과_한_개_가격 + 사과_한_개_가격\n",
    "보이기 사과_두_개_가격"
   ]
  },
  {
   "cell_type": "markdown",
   "metadata": {},
   "source": [
    "다음 2회에서는 가르치고 묻는 방법에 대해 좀 더 다양한 내용을 다룰 예정이다."
   ]
  },
  {
   "cell_type": "code",
   "execution_count": null,
   "metadata": {
    "collapsed": true
   },
   "outputs": [],
   "source": []
  }
 ],
 "metadata": {
  "kernelspec": {
   "display_name": "CoffeeScript (Node.js)",
   "language": "coffeescript",
   "name": "coffeescript"
  },
  "language_info": {
   "file_extension": "coffee",
   "mimetype": "application/coffeescript",
   "name": "coffeescript",
   "version": "0.10.25"
  }
 },
 "nbformat": 4,
 "nbformat_minor": 0
}
